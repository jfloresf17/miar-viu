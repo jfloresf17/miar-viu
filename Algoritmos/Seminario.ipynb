{
 "cells": [
  {
   "cell_type": "markdown",
   "metadata": {
    "id": "hVbXYX-RfPWh"
   },
   "source": [
    "# Algoritmos de optimización - Seminario<br>\n",
    "Nombre y Apellidos: Jair Francisco Flores Farfan  <br>\n",
    "Url: https://github.com/jfloresf17/miar-viu/Algoritmos/Seminario<br>\n",
    "Problema:\n",
    "> 1. Sesiones de doblaje <br>\n",
    ">2. Organizar los horarios de partidos de La Liga<br>\n",
    ">3. Combinar cifras y operaciones\n",
    "\n",
    "Descripción del problema:(copiar enunciado)\n",
    "\n",
    "....\n",
    "\n",
    "(*) La respuesta es obligatoria\n",
    "\n",
    "\n",
    "### Problema 1:\n",
    "Se precisa coordinar el doblaje de una película. Los actores del doblaje deben coincidir en las\n",
    "tomas en las que sus personajes aparecen juntos en las diferentes tomas. Los actores de\n",
    "doblaje cobran toda la misma cantidad por cada día que deben desplazarse hasta el estudio de\n",
    "grabación independientemente del número de tomas que se graben. No es posible grabar más\n",
    "de 6 tomas por día. El objetivo es planificar las sesiones por día de manera que el gasto por los\n",
    "servicios de los actores de doblaje sea el menor posible.\n",
    "\n",
    "\n",
    "                                        "
   ]
  },
  {
   "cell_type": "code",
   "execution_count": 1,
   "metadata": {
    "id": "AiskKkzZfy4e"
   },
   "outputs": [],
   "source": [
    "import pandas as pd # Para manipular dataframes\n",
    "import numpy as np # Para manipular arreglos de datos\n",
    "import random # Para añadir aleatoriedad a los datos\n",
    "import time # Para medir el tiempo de ejecución del algoritmo\n",
    "import matplotlib.pyplot as plt # Para graficar la complejidad del algoritmo\n",
    "\n",
    "from scipy.optimize import curve_fit # Para graficar la complejidad del algoritmo\n",
    "from math import comb # Para calcular numéricamente el espacio de posible soluciones\n",
    "from functools import lru_cache # Para medir el tiempo de ejecución\n",
    "from typing import List\n",
    "from itertools import combinations"
   ]
  },
  {
   "cell_type": "markdown",
   "metadata": {
    "id": "3_-exlrTgLd-"
   },
   "source": [
    "(*)¿Cuantas posibilidades hay sin tener en cuenta las restricciones?<br>\n",
    "\n",
    "\n",
    "\n",
    "¿Cuantas posibilidades hay teniendo en cuenta todas las restricciones.\n",
    "\n",
    "\n"
   ]
  },
  {
   "cell_type": "markdown",
   "metadata": {
    "id": "WfCUqJyKhPcw"
   },
   "source": [
    "Respuesta"
   ]
  },
  {
   "cell_type": "markdown",
   "metadata": {},
   "source": [
    "Tenemos un total de 30 tomas con 10 actores, en donde cada actor tiene establecidas las tomas en las que participa junto a otros actores.\n",
    "\n",
    "Sin aplicar restricciones se puede definir como número máximo de tomas por día al número total de tomas (n = 30). En base a ello la definición del espacio de posibilidades se denota de manera recursiva de la siguiente manera:"
   ]
  },
  {
   "cell_type": "markdown",
   "metadata": {},
   "source": [
    "$P(n, max_{tomas}) = \\sum_{j=1}^{min(n, max_{tomas})} C(n, j) * P(n-j, max_{tomas})$"
   ]
  },
  {
   "cell_type": "markdown",
   "metadata": {},
   "source": [
    "Donde:\n",
    "- $P(n, max_{tomas})$ es el número de posibilidades de formar grupos de n elementos con un máximo de tomas $max_{tomas}$.\n",
    "- $C(n, j)$ es el número de combinaciones de n elementos tomados de j en j. \n",
    "Se calcula como $C(n, j) = \\frac{n!}{j! \\times (n-j)!}$\n",
    "- $P(n-j, max_{tomas})$ es el número de particiones de los n-j elementos restantes."
   ]
  },
  {
   "cell_type": "markdown",
   "metadata": {},
   "source": [
    "La suma itera sobre todos los posibles tamaños de grupo j, desde 1 hasta el mínimo entre n y el máximo de tomas permitidas $max_{tomas}$."
   ]
  },
  {
   "cell_type": "code",
   "execution_count": 2,
   "metadata": {},
   "outputs": [],
   "source": [
    "def partition_count(n: int, max_tomas: int = 6) -> int:\n",
    "    \"\"\"\n",
    "    Calcula el número de particiones posibles de n elementos en grupos de hasta max_tomas usando la \n",
    "    ecuación:\n",
    "    P(n, max_tomas) = sum_{j=1}^{min(n, max_tomas)} C(n, j) * P(n-j, max_tomas)\n",
    "    con la condición base P(0, max_tomas) = 1.\n",
    "\n",
    "    Args:\n",
    "    n (int): Número de elementos a particionar en grupos.\n",
    "    max_tomas (int): Número máximo de elementos por grupo.\n",
    "\n",
    "    Returns:\n",
    "    int: Número de particiones posibles de n elementos en grupos de hasta max_tomas.    \n",
    "    \"\"\"\n",
    "    @lru_cache(None)  # Memorización para evitar cálculos repetidos\n",
    "    def P(n):\n",
    "        if n == 0:\n",
    "            return 1  # Caso base\n",
    "        \n",
    "        # Cálculo recursivo en donde se consideran todas las posibles combinaciones de j tomas\n",
    "        return sum(comb(n, j) * P(n - j) for j in range(1, min(n, max_tomas) + 1))\n",
    "    \n",
    "    return P(n)"
   ]
  },
  {
   "cell_type": "code",
   "execution_count": 3,
   "metadata": {},
   "outputs": [
    {
     "name": "stdout",
     "output_type": "stream",
     "text": [
      "El espacio de posibles soluciones sin restricciones es de:\n",
      "\n",
      "11403568794011880483742464196184901963\n"
     ]
    }
   ],
   "source": [
    "# Tomando como ejemplo el caso de 30 elementos en grupos de hasta 30\n",
    "no_restriction_partitions = partition_count(n=30, max_tomas=30)\n",
    "print(f\"El espacio de posibles soluciones sin restricciones es de:\")\n",
    "print(\"\")\n",
    "print(f\"{no_restriction_partitions}\")"
   ]
  },
  {
   "cell_type": "markdown",
   "metadata": {},
   "source": [
    "Si se toman en cuenta todas las restricciones en donde se tiene un máximo de 6 tomas por día, se debe \"particionar\" las tomas totales en grupos de máximo 6 tomas por día. El espacio de posibilidades, como es de esperar, se reduce. "
   ]
  },
  {
   "cell_type": "code",
   "execution_count": 4,
   "metadata": {},
   "outputs": [
    {
     "name": "stdout",
     "output_type": "stream",
     "text": [
      "El espacio de posibles soluciones con restricciones es de:\n",
      "\n",
      "11400192964820635839099878586991366320\n"
     ]
    }
   ],
   "source": [
    "# Calcular el número de particiones para 30 tomas con un máximo de 6 en cada grupo\n",
    "restriction_partitions = partition_count(n=30, max_tomas=6)\n",
    "print(f\"El espacio de posibles soluciones con restricciones es de:\")\n",
    "print(\"\")\n",
    "print(f\"{restriction_partitions}\")"
   ]
  },
  {
   "cell_type": "markdown",
   "metadata": {
    "id": "dzynfVJahHoY"
   },
   "source": [
    "Modelo para el espacio de soluciones<br>\n",
    "(*) ¿Cual es la estructura de datos que mejor se adapta al problema? Argumentalo.(Es posible que hayas elegido una al principio y veas la necesidad de cambiar, argumentalo)\n"
   ]
  },
  {
   "cell_type": "markdown",
   "metadata": {
    "id": "xFIJrOwKi2Ti"
   },
   "source": [
    "Respuesta"
   ]
  },
  {
   "cell_type": "markdown",
   "metadata": {},
   "source": [
    "La estructura de datos que he elegido como entrada es un dataframe. Se representa como una tabla tiene en el eje \"x\" los actores y en el eje \"y\" las tomas que se realizan. En cada registro indica si el actor participa o no en esa escena (con 1 o 0 respectivamente)."
   ]
  },
  {
   "cell_type": "code",
   "execution_count": 5,
   "metadata": {
    "id": "38c-7-ejhJmA"
   },
   "outputs": [
    {
     "data": {
      "text/html": [
       "<div>\n",
       "<style scoped>\n",
       "    .dataframe tbody tr th:only-of-type {\n",
       "        vertical-align: middle;\n",
       "    }\n",
       "\n",
       "    .dataframe tbody tr th {\n",
       "        vertical-align: top;\n",
       "    }\n",
       "\n",
       "    .dataframe thead th {\n",
       "        text-align: right;\n",
       "    }\n",
       "</style>\n",
       "<table border=\"1\" class=\"dataframe\">\n",
       "  <thead>\n",
       "    <tr style=\"text-align: right;\">\n",
       "      <th></th>\n",
       "      <th>Actor_1</th>\n",
       "      <th>Actor_2</th>\n",
       "      <th>Actor_3</th>\n",
       "      <th>Actor_4</th>\n",
       "      <th>Actor_5</th>\n",
       "      <th>Actor_6</th>\n",
       "      <th>Actor_7</th>\n",
       "      <th>Actor_8</th>\n",
       "      <th>Actor_9</th>\n",
       "      <th>Actor_10</th>\n",
       "    </tr>\n",
       "  </thead>\n",
       "  <tbody>\n",
       "    <tr>\n",
       "      <th>Toma_1</th>\n",
       "      <td>1.0</td>\n",
       "      <td>1.0</td>\n",
       "      <td>1.0</td>\n",
       "      <td>1.0</td>\n",
       "      <td>1.0</td>\n",
       "      <td>0.0</td>\n",
       "      <td>0.0</td>\n",
       "      <td>0.0</td>\n",
       "      <td>0.0</td>\n",
       "      <td>0.0</td>\n",
       "    </tr>\n",
       "    <tr>\n",
       "      <th>Toma_2</th>\n",
       "      <td>0.0</td>\n",
       "      <td>0.0</td>\n",
       "      <td>1.0</td>\n",
       "      <td>1.0</td>\n",
       "      <td>1.0</td>\n",
       "      <td>0.0</td>\n",
       "      <td>0.0</td>\n",
       "      <td>0.0</td>\n",
       "      <td>0.0</td>\n",
       "      <td>0.0</td>\n",
       "    </tr>\n",
       "    <tr>\n",
       "      <th>Toma_3</th>\n",
       "      <td>0.0</td>\n",
       "      <td>1.0</td>\n",
       "      <td>0.0</td>\n",
       "      <td>0.0</td>\n",
       "      <td>1.0</td>\n",
       "      <td>0.0</td>\n",
       "      <td>1.0</td>\n",
       "      <td>0.0</td>\n",
       "      <td>0.0</td>\n",
       "      <td>0.0</td>\n",
       "    </tr>\n",
       "    <tr>\n",
       "      <th>Toma_4</th>\n",
       "      <td>1.0</td>\n",
       "      <td>1.0</td>\n",
       "      <td>0.0</td>\n",
       "      <td>0.0</td>\n",
       "      <td>0.0</td>\n",
       "      <td>0.0</td>\n",
       "      <td>1.0</td>\n",
       "      <td>1.0</td>\n",
       "      <td>0.0</td>\n",
       "      <td>0.0</td>\n",
       "    </tr>\n",
       "    <tr>\n",
       "      <th>Toma_5</th>\n",
       "      <td>0.0</td>\n",
       "      <td>1.0</td>\n",
       "      <td>0.0</td>\n",
       "      <td>1.0</td>\n",
       "      <td>0.0</td>\n",
       "      <td>0.0</td>\n",
       "      <td>0.0</td>\n",
       "      <td>1.0</td>\n",
       "      <td>0.0</td>\n",
       "      <td>0.0</td>\n",
       "    </tr>\n",
       "    <tr>\n",
       "      <th>Toma_6</th>\n",
       "      <td>1.0</td>\n",
       "      <td>1.0</td>\n",
       "      <td>0.0</td>\n",
       "      <td>1.0</td>\n",
       "      <td>1.0</td>\n",
       "      <td>0.0</td>\n",
       "      <td>0.0</td>\n",
       "      <td>0.0</td>\n",
       "      <td>0.0</td>\n",
       "      <td>0.0</td>\n",
       "    </tr>\n",
       "    <tr>\n",
       "      <th>Toma_7</th>\n",
       "      <td>1.0</td>\n",
       "      <td>1.0</td>\n",
       "      <td>0.0</td>\n",
       "      <td>1.0</td>\n",
       "      <td>1.0</td>\n",
       "      <td>0.0</td>\n",
       "      <td>0.0</td>\n",
       "      <td>0.0</td>\n",
       "      <td>0.0</td>\n",
       "      <td>0.0</td>\n",
       "    </tr>\n",
       "    <tr>\n",
       "      <th>Toma_8</th>\n",
       "      <td>1.0</td>\n",
       "      <td>1.0</td>\n",
       "      <td>0.0</td>\n",
       "      <td>0.0</td>\n",
       "      <td>0.0</td>\n",
       "      <td>1.0</td>\n",
       "      <td>0.0</td>\n",
       "      <td>0.0</td>\n",
       "      <td>0.0</td>\n",
       "      <td>0.0</td>\n",
       "    </tr>\n",
       "    <tr>\n",
       "      <th>Toma_9</th>\n",
       "      <td>1.0</td>\n",
       "      <td>1.0</td>\n",
       "      <td>0.0</td>\n",
       "      <td>1.0</td>\n",
       "      <td>0.0</td>\n",
       "      <td>0.0</td>\n",
       "      <td>0.0</td>\n",
       "      <td>0.0</td>\n",
       "      <td>0.0</td>\n",
       "      <td>0.0</td>\n",
       "    </tr>\n",
       "    <tr>\n",
       "      <th>Toma_10</th>\n",
       "      <td>1.0</td>\n",
       "      <td>1.0</td>\n",
       "      <td>0.0</td>\n",
       "      <td>0.0</td>\n",
       "      <td>0.0</td>\n",
       "      <td>1.0</td>\n",
       "      <td>0.0</td>\n",
       "      <td>0.0</td>\n",
       "      <td>1.0</td>\n",
       "      <td>0.0</td>\n",
       "    </tr>\n",
       "    <tr>\n",
       "      <th>Toma_11</th>\n",
       "      <td>1.0</td>\n",
       "      <td>1.0</td>\n",
       "      <td>1.0</td>\n",
       "      <td>0.0</td>\n",
       "      <td>1.0</td>\n",
       "      <td>0.0</td>\n",
       "      <td>0.0</td>\n",
       "      <td>1.0</td>\n",
       "      <td>0.0</td>\n",
       "      <td>0.0</td>\n",
       "    </tr>\n",
       "    <tr>\n",
       "      <th>Toma_12</th>\n",
       "      <td>1.0</td>\n",
       "      <td>1.0</td>\n",
       "      <td>1.0</td>\n",
       "      <td>1.0</td>\n",
       "      <td>0.0</td>\n",
       "      <td>1.0</td>\n",
       "      <td>0.0</td>\n",
       "      <td>0.0</td>\n",
       "      <td>0.0</td>\n",
       "      <td>0.0</td>\n",
       "    </tr>\n",
       "    <tr>\n",
       "      <th>Toma_13</th>\n",
       "      <td>1.0</td>\n",
       "      <td>0.0</td>\n",
       "      <td>0.0</td>\n",
       "      <td>1.0</td>\n",
       "      <td>1.0</td>\n",
       "      <td>0.0</td>\n",
       "      <td>0.0</td>\n",
       "      <td>0.0</td>\n",
       "      <td>0.0</td>\n",
       "      <td>0.0</td>\n",
       "    </tr>\n",
       "    <tr>\n",
       "      <th>Toma_14</th>\n",
       "      <td>1.0</td>\n",
       "      <td>0.0</td>\n",
       "      <td>1.0</td>\n",
       "      <td>0.0</td>\n",
       "      <td>0.0</td>\n",
       "      <td>1.0</td>\n",
       "      <td>0.0</td>\n",
       "      <td>0.0</td>\n",
       "      <td>0.0</td>\n",
       "      <td>0.0</td>\n",
       "    </tr>\n",
       "    <tr>\n",
       "      <th>Toma_15</th>\n",
       "      <td>1.0</td>\n",
       "      <td>1.0</td>\n",
       "      <td>0.0</td>\n",
       "      <td>0.0</td>\n",
       "      <td>0.0</td>\n",
       "      <td>0.0</td>\n",
       "      <td>1.0</td>\n",
       "      <td>0.0</td>\n",
       "      <td>0.0</td>\n",
       "      <td>0.0</td>\n",
       "    </tr>\n",
       "    <tr>\n",
       "      <th>Toma_16</th>\n",
       "      <td>0.0</td>\n",
       "      <td>0.0</td>\n",
       "      <td>0.0</td>\n",
       "      <td>1.0</td>\n",
       "      <td>0.0</td>\n",
       "      <td>0.0</td>\n",
       "      <td>0.0</td>\n",
       "      <td>0.0</td>\n",
       "      <td>0.0</td>\n",
       "      <td>1.0</td>\n",
       "    </tr>\n",
       "    <tr>\n",
       "      <th>Toma_17</th>\n",
       "      <td>1.0</td>\n",
       "      <td>0.0</td>\n",
       "      <td>1.0</td>\n",
       "      <td>0.0</td>\n",
       "      <td>0.0</td>\n",
       "      <td>0.0</td>\n",
       "      <td>0.0</td>\n",
       "      <td>0.0</td>\n",
       "      <td>0.0</td>\n",
       "      <td>0.0</td>\n",
       "    </tr>\n",
       "    <tr>\n",
       "      <th>Toma_18</th>\n",
       "      <td>0.0</td>\n",
       "      <td>0.0</td>\n",
       "      <td>1.0</td>\n",
       "      <td>0.0</td>\n",
       "      <td>0.0</td>\n",
       "      <td>1.0</td>\n",
       "      <td>0.0</td>\n",
       "      <td>0.0</td>\n",
       "      <td>0.0</td>\n",
       "      <td>0.0</td>\n",
       "    </tr>\n",
       "    <tr>\n",
       "      <th>Toma_19</th>\n",
       "      <td>1.0</td>\n",
       "      <td>0.0</td>\n",
       "      <td>1.0</td>\n",
       "      <td>0.0</td>\n",
       "      <td>0.0</td>\n",
       "      <td>0.0</td>\n",
       "      <td>0.0</td>\n",
       "      <td>0.0</td>\n",
       "      <td>0.0</td>\n",
       "      <td>0.0</td>\n",
       "    </tr>\n",
       "    <tr>\n",
       "      <th>Toma_20</th>\n",
       "      <td>1.0</td>\n",
       "      <td>0.0</td>\n",
       "      <td>1.0</td>\n",
       "      <td>1.0</td>\n",
       "      <td>1.0</td>\n",
       "      <td>0.0</td>\n",
       "      <td>0.0</td>\n",
       "      <td>0.0</td>\n",
       "      <td>0.0</td>\n",
       "      <td>0.0</td>\n",
       "    </tr>\n",
       "    <tr>\n",
       "      <th>Toma_21</th>\n",
       "      <td>0.0</td>\n",
       "      <td>0.0</td>\n",
       "      <td>0.0</td>\n",
       "      <td>0.0</td>\n",
       "      <td>0.0</td>\n",
       "      <td>1.0</td>\n",
       "      <td>0.0</td>\n",
       "      <td>1.0</td>\n",
       "      <td>0.0</td>\n",
       "      <td>0.0</td>\n",
       "    </tr>\n",
       "    <tr>\n",
       "      <th>Toma_22</th>\n",
       "      <td>1.0</td>\n",
       "      <td>1.0</td>\n",
       "      <td>1.0</td>\n",
       "      <td>1.0</td>\n",
       "      <td>0.0</td>\n",
       "      <td>0.0</td>\n",
       "      <td>0.0</td>\n",
       "      <td>0.0</td>\n",
       "      <td>0.0</td>\n",
       "      <td>0.0</td>\n",
       "    </tr>\n",
       "    <tr>\n",
       "      <th>Toma_23</th>\n",
       "      <td>1.0</td>\n",
       "      <td>0.0</td>\n",
       "      <td>1.0</td>\n",
       "      <td>0.0</td>\n",
       "      <td>0.0</td>\n",
       "      <td>0.0</td>\n",
       "      <td>0.0</td>\n",
       "      <td>0.0</td>\n",
       "      <td>0.0</td>\n",
       "      <td>0.0</td>\n",
       "    </tr>\n",
       "    <tr>\n",
       "      <th>Toma_24</th>\n",
       "      <td>0.0</td>\n",
       "      <td>0.0</td>\n",
       "      <td>1.0</td>\n",
       "      <td>0.0</td>\n",
       "      <td>0.0</td>\n",
       "      <td>1.0</td>\n",
       "      <td>0.0</td>\n",
       "      <td>0.0</td>\n",
       "      <td>0.0</td>\n",
       "      <td>0.0</td>\n",
       "    </tr>\n",
       "    <tr>\n",
       "      <th>Toma_25</th>\n",
       "      <td>1.0</td>\n",
       "      <td>1.0</td>\n",
       "      <td>0.0</td>\n",
       "      <td>1.0</td>\n",
       "      <td>0.0</td>\n",
       "      <td>0.0</td>\n",
       "      <td>0.0</td>\n",
       "      <td>0.0</td>\n",
       "      <td>0.0</td>\n",
       "      <td>1.0</td>\n",
       "    </tr>\n",
       "    <tr>\n",
       "      <th>Toma_26</th>\n",
       "      <td>1.0</td>\n",
       "      <td>0.0</td>\n",
       "      <td>1.0</td>\n",
       "      <td>0.0</td>\n",
       "      <td>1.0</td>\n",
       "      <td>0.0</td>\n",
       "      <td>0.0</td>\n",
       "      <td>0.0</td>\n",
       "      <td>1.0</td>\n",
       "      <td>0.0</td>\n",
       "    </tr>\n",
       "    <tr>\n",
       "      <th>Toma_27</th>\n",
       "      <td>0.0</td>\n",
       "      <td>0.0</td>\n",
       "      <td>0.0</td>\n",
       "      <td>1.0</td>\n",
       "      <td>1.0</td>\n",
       "      <td>0.0</td>\n",
       "      <td>0.0</td>\n",
       "      <td>0.0</td>\n",
       "      <td>0.0</td>\n",
       "      <td>0.0</td>\n",
       "    </tr>\n",
       "    <tr>\n",
       "      <th>Toma_28</th>\n",
       "      <td>1.0</td>\n",
       "      <td>0.0</td>\n",
       "      <td>0.0</td>\n",
       "      <td>1.0</td>\n",
       "      <td>0.0</td>\n",
       "      <td>0.0</td>\n",
       "      <td>0.0</td>\n",
       "      <td>0.0</td>\n",
       "      <td>0.0</td>\n",
       "      <td>0.0</td>\n",
       "    </tr>\n",
       "    <tr>\n",
       "      <th>Toma_29</th>\n",
       "      <td>1.0</td>\n",
       "      <td>0.0</td>\n",
       "      <td>0.0</td>\n",
       "      <td>0.0</td>\n",
       "      <td>1.0</td>\n",
       "      <td>1.0</td>\n",
       "      <td>0.0</td>\n",
       "      <td>0.0</td>\n",
       "      <td>0.0</td>\n",
       "      <td>0.0</td>\n",
       "    </tr>\n",
       "    <tr>\n",
       "      <th>Toma_30</th>\n",
       "      <td>1.0</td>\n",
       "      <td>0.0</td>\n",
       "      <td>0.0</td>\n",
       "      <td>1.0</td>\n",
       "      <td>0.0</td>\n",
       "      <td>0.0</td>\n",
       "      <td>0.0</td>\n",
       "      <td>0.0</td>\n",
       "      <td>0.0</td>\n",
       "      <td>0.0</td>\n",
       "    </tr>\n",
       "  </tbody>\n",
       "</table>\n",
       "</div>"
      ],
      "text/plain": [
       "         Actor_1  Actor_2  Actor_3  Actor_4  Actor_5  Actor_6  Actor_7  \\\n",
       "Toma_1       1.0      1.0      1.0      1.0      1.0      0.0      0.0   \n",
       "Toma_2       0.0      0.0      1.0      1.0      1.0      0.0      0.0   \n",
       "Toma_3       0.0      1.0      0.0      0.0      1.0      0.0      1.0   \n",
       "Toma_4       1.0      1.0      0.0      0.0      0.0      0.0      1.0   \n",
       "Toma_5       0.0      1.0      0.0      1.0      0.0      0.0      0.0   \n",
       "Toma_6       1.0      1.0      0.0      1.0      1.0      0.0      0.0   \n",
       "Toma_7       1.0      1.0      0.0      1.0      1.0      0.0      0.0   \n",
       "Toma_8       1.0      1.0      0.0      0.0      0.0      1.0      0.0   \n",
       "Toma_9       1.0      1.0      0.0      1.0      0.0      0.0      0.0   \n",
       "Toma_10      1.0      1.0      0.0      0.0      0.0      1.0      0.0   \n",
       "Toma_11      1.0      1.0      1.0      0.0      1.0      0.0      0.0   \n",
       "Toma_12      1.0      1.0      1.0      1.0      0.0      1.0      0.0   \n",
       "Toma_13      1.0      0.0      0.0      1.0      1.0      0.0      0.0   \n",
       "Toma_14      1.0      0.0      1.0      0.0      0.0      1.0      0.0   \n",
       "Toma_15      1.0      1.0      0.0      0.0      0.0      0.0      1.0   \n",
       "Toma_16      0.0      0.0      0.0      1.0      0.0      0.0      0.0   \n",
       "Toma_17      1.0      0.0      1.0      0.0      0.0      0.0      0.0   \n",
       "Toma_18      0.0      0.0      1.0      0.0      0.0      1.0      0.0   \n",
       "Toma_19      1.0      0.0      1.0      0.0      0.0      0.0      0.0   \n",
       "Toma_20      1.0      0.0      1.0      1.0      1.0      0.0      0.0   \n",
       "Toma_21      0.0      0.0      0.0      0.0      0.0      1.0      0.0   \n",
       "Toma_22      1.0      1.0      1.0      1.0      0.0      0.0      0.0   \n",
       "Toma_23      1.0      0.0      1.0      0.0      0.0      0.0      0.0   \n",
       "Toma_24      0.0      0.0      1.0      0.0      0.0      1.0      0.0   \n",
       "Toma_25      1.0      1.0      0.0      1.0      0.0      0.0      0.0   \n",
       "Toma_26      1.0      0.0      1.0      0.0      1.0      0.0      0.0   \n",
       "Toma_27      0.0      0.0      0.0      1.0      1.0      0.0      0.0   \n",
       "Toma_28      1.0      0.0      0.0      1.0      0.0      0.0      0.0   \n",
       "Toma_29      1.0      0.0      0.0      0.0      1.0      1.0      0.0   \n",
       "Toma_30      1.0      0.0      0.0      1.0      0.0      0.0      0.0   \n",
       "\n",
       "         Actor_8  Actor_9  Actor_10  \n",
       "Toma_1       0.0      0.0       0.0  \n",
       "Toma_2       0.0      0.0       0.0  \n",
       "Toma_3       0.0      0.0       0.0  \n",
       "Toma_4       1.0      0.0       0.0  \n",
       "Toma_5       1.0      0.0       0.0  \n",
       "Toma_6       0.0      0.0       0.0  \n",
       "Toma_7       0.0      0.0       0.0  \n",
       "Toma_8       0.0      0.0       0.0  \n",
       "Toma_9       0.0      0.0       0.0  \n",
       "Toma_10      0.0      1.0       0.0  \n",
       "Toma_11      1.0      0.0       0.0  \n",
       "Toma_12      0.0      0.0       0.0  \n",
       "Toma_13      0.0      0.0       0.0  \n",
       "Toma_14      0.0      0.0       0.0  \n",
       "Toma_15      0.0      0.0       0.0  \n",
       "Toma_16      0.0      0.0       1.0  \n",
       "Toma_17      0.0      0.0       0.0  \n",
       "Toma_18      0.0      0.0       0.0  \n",
       "Toma_19      0.0      0.0       0.0  \n",
       "Toma_20      0.0      0.0       0.0  \n",
       "Toma_21      1.0      0.0       0.0  \n",
       "Toma_22      0.0      0.0       0.0  \n",
       "Toma_23      0.0      0.0       0.0  \n",
       "Toma_24      0.0      0.0       0.0  \n",
       "Toma_25      0.0      0.0       1.0  \n",
       "Toma_26      0.0      1.0       0.0  \n",
       "Toma_27      0.0      0.0       0.0  \n",
       "Toma_28      0.0      0.0       0.0  \n",
       "Toma_29      0.0      0.0       0.0  \n",
       "Toma_30      0.0      0.0       0.0  "
      ]
     },
     "metadata": {},
     "output_type": "display_data"
    }
   ],
   "source": [
    "df = pd.read_csv('doblaje.csv', header=1, index_col=0, sep=',')\n",
    "\n",
    "# Eliminar las dos últimas columnas\n",
    "df.drop(df.columns[-2:], axis=1, inplace=True) \n",
    "## Eliminar las dos últimas filas\n",
    "df.drop(df.index[-2:], axis=0, inplace=True)\n",
    "\n",
    "# Cambiar los nombres de las columnas y filas\n",
    "df.columns = ['Actor_' + str(int(col)) for col in df.columns]\n",
    "df.index = ['Toma_' + str(idx) for idx in df.index]\n",
    "display(df)"
   ]
  },
  {
   "cell_type": "markdown",
   "metadata": {
    "id": "7Z9U2W7bi-XS"
   },
   "source": [
    "Según el modelo para el espacio de soluciones<br>\n",
    "(*)¿Cual es la función objetivo?\n",
    "\n",
    "(*)¿Es un problema de maximización o minimización?"
   ]
  },
  {
   "cell_type": "markdown",
   "metadata": {
    "id": "hBalWLM7j1_d"
   },
   "source": [
    "Respuesta"
   ]
  },
  {
   "cell_type": "markdown",
   "metadata": {},
   "source": [
    "La función objetivo es **minimizar el coste total** de la coordinación de las sesiones de doblaje. Específicamente, para cada día se incurre en un coste equivalente al número de actores que deben presentarse en el estudio (ya que se les paga una vez por día, independientemente del número de tomas grabadas)."
   ]
  },
  {
   "cell_type": "markdown",
   "metadata": {},
   "source": [
    "La función objetivo es de minimización, la cual se define como:\n",
    "\n",
    "$min (\\sum_{d=1}^{D} \\sum_{a=1}^{10} y_{a,d})$\n",
    "\n",
    "En donde D es el número de días en los que se graban las tomas, que va de entre 30 a 5, ya que se pueden grabar como máximo 6 tomas por día.\n",
    "\n",
    "$y_{a,d}$ es una variable binaria que indica si el actor a debe presentarse en el día d. Por ejemplo, si el actor 1 debe presentarse en los días 1, 2 y 3, entonces $y_{1,1} = 1$, $y_{1,2} = 1$ y $y_{1,3} = 1$."
   ]
  },
  {
   "cell_type": "code",
   "execution_count": 6,
   "metadata": {},
   "outputs": [],
   "source": [
    "def funcion_coste(dataframe: pd.DataFrame, group_lists: List[List[int]]) -> float:\n",
    "    \"\"\"\n",
    "    Calcula el coste de una partición de tomas en grupos que es igual a la cantidad total de actores \n",
    "    involucrados en cada uno de los días de grabación (grupos).\n",
    "\n",
    "    Args:\n",
    "        dataframe (pd.DataFrame): DataFrame con las tomas y los actores que participan en cada una.\n",
    "        group_lists (List[List[int]]): Lista de grupos de tomas (cada grupo representa un día).\n",
    "\n",
    "    Returns:\n",
    "        float: Coste total de la partición de acuerdo a la función objetivo (número total de asistencias).\n",
    "    \"\"\"\n",
    "    \n",
    "    actor_count_per_group = {}\n",
    "\n",
    "    # Iterar sobre los grupos (días de grabación)\n",
    "    for i, groups in enumerate(group_lists):\n",
    "        actor_count_per_group[i] = set()  # Usar un conjunto para contar actores únicos por día\n",
    "        \n",
    "        if isinstance(groups, int):  # Asegurar que siempre sea una lista\n",
    "            groups = [groups]            \n",
    "        \n",
    "        for group in groups:\n",
    "            toma_index = f'Toma_{group}'  # Convertir número de toma al formato del DataFrame\n",
    "            if toma_index in dataframe.index:\n",
    "                # Obtener actores presentes en la toma (donde el valor es 1)\n",
    "                group_actors = dataframe.columns[dataframe.loc[toma_index] == 1].tolist()\n",
    "\n",
    "                # Agregar actores al conjunto de este día\n",
    "                actor_count_per_group[i].update(group_actors)\n",
    "\n",
    "    # Calcular el coste total: número de actores presentes en todos los días\n",
    "    total_cost = sum(len(actores) for actores in actor_count_per_group.values())\n",
    "\n",
    "    return total_cost, actor_count_per_group"
   ]
  },
  {
   "cell_type": "markdown",
   "metadata": {},
   "source": [
    "La minimización de la función objetivo implica que se deben de tener todas las particiones posibles de las tomas en grupos de máximo 6 tomas por día, de esa manera se puede encontrar la combinación que minimice el coste total."
   ]
  },
  {
   "cell_type": "code",
   "execution_count": 7,
   "metadata": {},
   "outputs": [
    {
     "name": "stdout",
     "output_type": "stream",
     "text": [
      "El coste de la partición de grupos es: 42\n"
     ]
    }
   ],
   "source": [
    "## Genera una lista de listas con las treinta tomas divididas en grupos de hasta seis tomas\n",
    "\n",
    "## Ejemplo de la partición de tomas en 6 grupos (días de grabación)\n",
    "lista = [\n",
    "         [1, 2], # Día 1 \n",
    "         [3, 4, 5, 29], # Día 2\n",
    "         [7, 8, 14, 16, 11, 12], # Día 3 \n",
    "         [13, 9, 15, 10, 17, 18], # Día 4\n",
    "         [19, 22, 21, 20, 23, 24], # Día 5\n",
    "         [25, 26, 27, 28, 6, 30] # Día 6\n",
    "        ]\n",
    "\n",
    "## Calcula el coste de la partición\n",
    "cost, actor_count_per_group = funcion_coste(df, lista)\n",
    "print(f\"El coste de la partición de grupos es: {cost}\")"
   ]
  },
  {
   "cell_type": "markdown",
   "metadata": {
    "id": "rlnTYgY1j6I2"
   },
   "source": [
    "Diseña un algoritmo para resolver el problema por fuerza bruta"
   ]
  },
  {
   "cell_type": "markdown",
   "metadata": {
    "id": "70rDgxYXkC8r"
   },
   "source": [
    "Respuesta"
   ]
  },
  {
   "cell_type": "markdown",
   "metadata": {
    "id": "tgrnsC2nkFa8"
   },
   "source": [
    "El algoritmo de fuerza bruta consiste en generar todas las posibles combinaciones de las tomas en grupos de máximo 6 tomas por día, para satisfacer las restricciones del problema se utiliza la técnica de backtracking. Posterior a ello, se calcula el coste total de cada combinación y se selecciona la que minimice el coste total.\n",
    "\n",
    "Como es de esperar, el orden de complejidad del algoritmo pasa a ser exponencial $O(2^n)$, donde n es el número de tomas. Por lo tanto, este algoritmo es altamente costoso computacionalmente y no es viable para un número grande de tomas."
   ]
  },
  {
   "cell_type": "code",
   "execution_count": 8,
   "metadata": {},
   "outputs": [],
   "source": [
    "def fuerza_bruta(n: int, max_tomas: int = 6):\n",
    "    \"\"\"\n",
    "    Genera todas las particiones posibles de n elementos en grupos de hasta max_tomas.\n",
    "    Luego, selecciona la partición con el menor coste en función de la asistencia de actores.\n",
    "    \n",
    "    Args:\n",
    "        n (int): Número total de tomas.\n",
    "        max_tomas (int): Número máximo de tomas por grupo (día de grabación).\n",
    "\n",
    "    Returns:\n",
    "        tuple: (Mejor partición encontrada, Costo mínimo)\n",
    "    \"\"\"\n",
    "    def backtrack(remaining: List[int], current_partition: List[List[int]]) -> None:  # Útil para la satisfacción de restricciones\n",
    "        \"\"\"        \n",
    "        Backtracking para generar todas las particiones posibles de las tomas.\n",
    "\n",
    "        Args:\n",
    "            remaining (List[int]): Lista de tomas restantes por asignar.\n",
    "            current_partition (List[List[int]]): Partición actual de las tomas.\n",
    "        \"\"\"\n",
    "        \n",
    "        if not remaining:\n",
    "            partitions.append(current_partition)\n",
    "            return\n",
    "\n",
    "        for size in range(1, min(len(remaining), max_tomas) + 1):\n",
    "            for group in combinations(remaining, size):\n",
    "                next_remaining = [x for x in remaining if x not in group]\n",
    "                backtrack(next_remaining, current_partition + [list(group)])\n",
    "\n",
    "    partitions = []\n",
    "    elements = list(range(1, n + 1))  # Tomando en cuenta que las tomas van de 1 a n\n",
    "    backtrack(elements, [])\n",
    "\n",
    "    # Evaluar el costo de cada partición y seleccionar la mejor\n",
    "    mejor_particion = None\n",
    "    costo_minimo = float('inf')\n",
    "\n",
    "    for partition in partitions:\n",
    "        costo, _ = funcion_coste(df, partition)\n",
    "        if costo < costo_minimo:\n",
    "            costo_minimo = costo\n",
    "            mejor_particion = partition\n",
    "\n",
    "    return mejor_particion, costo_minimo"
   ]
  },
  {
   "cell_type": "markdown",
   "metadata": {},
   "source": [
    "Es por ello que lo más razonable es realizar una búsqueda aleatoria (por ejemplo un conjunto de 3000 soluciones aleatorias) y seleccionar la que tenga el menor coste total."
   ]
  },
  {
   "cell_type": "code",
   "execution_count": 10,
   "metadata": {},
   "outputs": [],
   "source": [
    "def particiones_aleatorias(n: int, max_tomas: int = 6, max_partitions: int = 3000) -> List[List[List[int]]]:\n",
    "    \"\"\"\n",
    "    Genera \"max_partitions\" particiones de n elementos en grupos de \"hasta max_tomas\" tomas.\n",
    "\n",
    "    Args:\n",
    "        n (int): Número total de tomas.\n",
    "        max_tomas (int): Número máximo de tomas por grupo.\n",
    "        max_partitions (int): Número máximo de particiones a generar.\n",
    "\n",
    "    Returns:\n",
    "        List[List[List[int]]]: Lista con las primeras 1000 particiones generadas.\n",
    "    \"\"\"\n",
    "    def backtrack(remaining: List[int], current_partition: List[List[int]]) -> None:  # Útil para la satisfacción de restricciones\n",
    "        \"\"\"        \n",
    "        Backtracking para generar todas las particiones posibles de las tomas.\n",
    "\n",
    "        Args:\n",
    "            remaining (List[int]): Lista de tomas restantes por asignar.\n",
    "            current_partition (List[List[int]]): Partición actual de las tomas.\n",
    "        \"\"\"\n",
    "\n",
    "        # Si ya tenemos suficientes soluciones, detener\n",
    "        if len(partitions) >= max_partitions:\n",
    "            return\n",
    "\n",
    "        # Si no quedan elementos, guardar la partición\n",
    "        if not remaining:\n",
    "            partitions.append(current_partition[:])\n",
    "            return\n",
    "\n",
    "        # Distribuir elementos en grupos de hasta \"max_tomas\" tomas\n",
    "        for size in range(min(max_tomas, len(remaining)), 0, -1):\n",
    "            for group in combinations(remaining, size):\n",
    "                next_remaining = [x for x in remaining if x not in group]\n",
    "                current_partition.append(list(group))\n",
    "                backtrack(next_remaining, current_partition)\n",
    "                current_partition.pop()  # Deshacer la última asignación para probar otras opciones\n",
    "\n",
    "    partitions = []\n",
    "    elements = list(range(1, n + 1))  # Lista de tomas de 1 a n\n",
    "    random.shuffle(elements)  # Aleatorizar la lista de tomas\n",
    "    backtrack(elements, [])\n",
    "\n",
    "    return partitions"
   ]
  },
  {
   "cell_type": "code",
   "execution_count": 11,
   "metadata": {},
   "outputs": [
    {
     "name": "stdout",
     "output_type": "stream",
     "text": [
      " Día 1: tomas [29, 6, 13, 17, 5, 3]\n",
      " Día 2: tomas [18, 1, 27, 14, 30, 7]\n",
      " Día 3: tomas [20, 19, 26, 10, 24, 16]\n",
      " Día 4: tomas [4, 9, 21, 2, 28, 25]\n",
      " Día 5: tomas [23, 8, 12, 15, 22, 11]\n",
      "\n",
      "Coste total mínimo: 39\n"
     ]
    }
   ],
   "source": [
    "## Genera 3000 particiones aleatorias de 30 tomas en grupos de hasta 6 tomas\n",
    "partitions = particiones_aleatorias(n=30, max_tomas=6, max_partitions=3000)\n",
    "\n",
    "## Encuentra la partición con el menor coste\n",
    "min_cost = float('inf')\n",
    "for i, partition in enumerate(partitions):\n",
    "    cost, _ = funcion_coste(df, partition)\n",
    "    if cost < min_cost:\n",
    "        min_cost = cost\n",
    "        best_partition = partition\n",
    "\n",
    "for i, dia in enumerate(best_partition):\n",
    "    print(f\" Día {i+1}: tomas {dia}\")\n",
    "print(\"\\nCoste total mínimo:\", min_cost)"
   ]
  },
  {
   "cell_type": "markdown",
   "metadata": {
    "id": "txbrmLmskReM"
   },
   "source": [
    "(*)Diseña un algoritmo que mejore la complejidad del algortimo por fuerza bruta. Argumenta porque crees que mejora el algoritmo por fuerza bruta"
   ]
  },
  {
   "cell_type": "markdown",
   "metadata": {
    "id": "hLrVwt5QkZPD"
   },
   "source": [
    "Respuesta"
   ]
  },
  {
   "cell_type": "markdown",
   "metadata": {},
   "source": [
    "Un algoritmo de búsqueda local puede mejorar la complejidad del algoritmo de fuerza bruta. La idea es partir de una solución inicial y realizar pequeños cambios en la solución para mejorarla. \n",
    "\n",
    "Estos cambios se llaman operadores de vecindad y consisten en elegir una toma en dos grupos de tomas aleatorios e intercambiarlo de un grupo por una del otro grupo."
   ]
  },
  {
   "cell_type": "code",
   "execution_count": 12,
   "metadata": {
    "id": "m1eyM21Vkabg"
   },
   "outputs": [],
   "source": [
    "# Función de búsqueda local para mejorar la partición\n",
    "def busqueda_local(df, best_partition, min_cost, max_iter=100):\n",
    "    \"\"\"\n",
    "    Optimiza la partición encontrada usando búsqueda local.\n",
    "\n",
    "    Args:\n",
    "        df (pd.DataFrame): DataFrame con la matriz de asistencia de actores a tomas.\n",
    "        best_partition (List[List[int]]): La mejor partición inicial encontrada.\n",
    "        min_cost (float): Costo de la mejor partición encontrada.\n",
    "        max_iter (int): Número máximo de iteraciones en la búsqueda local.\n",
    "\n",
    "    Returns:\n",
    "        tuple: (Mejor partición encontrada, Costo mínimo alcanzado)\n",
    "    \"\"\"\n",
    "    current_partition = best_partition[:]\n",
    "    current_cost = min_cost\n",
    "\n",
    "    for _ in range(max_iter):\n",
    "        new_partition = [group[:] for group in current_partition]  # Copia profunda de la partición\n",
    "        if len(new_partition) < 2:\n",
    "            break  # No se puede optimizar si hay menos de dos grupos\n",
    "\n",
    "        # Elegir dos grupos aleatorios para intercambiar elementos\n",
    "        g1, g2 = random.sample(range(len(new_partition)), 2)\n",
    "        if not new_partition[g1] or not new_partition[g2]:\n",
    "            continue  # Evitar grupos vacíos\n",
    "\n",
    "        # Intercambiar una toma entre los grupos seleccionados\n",
    "        if new_partition[g1] and new_partition[g2]:\n",
    "            swap_idx1 = random.randint(0, len(new_partition[g1]) - 1)\n",
    "            swap_idx2 = random.randint(0, len(new_partition[g2]) - 1)\n",
    "\n",
    "            new_partition[g1][swap_idx1], new_partition[g2][swap_idx2] = (\n",
    "                new_partition[g2][swap_idx2],\n",
    "                new_partition[g1][swap_idx1],\n",
    "            )\n",
    "\n",
    "        # Calcular nuevo costo\n",
    "        new_cost, _ = funcion_coste(df, new_partition)\n",
    "\n",
    "        # Si la nueva partición mejora el costo, actualizar\n",
    "        if new_cost < current_cost:\n",
    "            current_partition = new_partition\n",
    "            current_cost = new_cost\n",
    "\n",
    "    return current_partition, current_cost"
   ]
  },
  {
   "cell_type": "code",
   "execution_count": 13,
   "metadata": {},
   "outputs": [
    {
     "name": "stdout",
     "output_type": "stream",
     "text": [
      "\n",
      "Partición óptima (días con índices de tomas):\n",
      " Día 1: tomas [27, 6, 13, 7, 28, 3]\n",
      " Día 2: tomas [19, 23, 20, 2, 30, 17]\n",
      " Día 3: tomas [29, 18, 26, 10, 24, 14]\n",
      " Día 4: tomas [4, 9, 5, 16, 15, 25]\n",
      " Día 5: tomas [1, 8, 12, 21, 22, 11]\n",
      "\n",
      "Coste total mínimo: 28\n"
     ]
    }
   ],
   "source": [
    "# Ejecutar la búsqueda local sobre la mejor partición encontrada\n",
    "best_partition_local, min_cost_local = busqueda_local(df, best_partition, min_cost, max_iter=5000)\n",
    "\n",
    "# Mostrar la solución encontrada\n",
    "print(\"\\nPartición óptima (días con índices de tomas):\")\n",
    "for i, dia in enumerate(best_partition_local):\n",
    "    print(f\" Día {i+1}: tomas {dia}\")\n",
    "print(\"\\nCoste total mínimo:\", min_cost_local)"
   ]
  },
  {
   "cell_type": "markdown",
   "metadata": {
    "id": "eGDB4K6uk1iN"
   },
   "source": [
    "(*)Calcula la complejidad del algoritmo"
   ]
  },
  {
   "cell_type": "markdown",
   "metadata": {
    "id": "NhpTh_BPk1ms"
   },
   "source": [
    "Respuesta"
   ]
  },
  {
   "cell_type": "markdown",
   "metadata": {},
   "source": [
    "Visto el comportamiento de la generación de soluciones aleatorias, la complejidad del algoritmo de búsqueda local es de $O (2^n)$, donde n es el número de tomas. \n",
    "\n",
    "Al ser un algoritmo recursivo, la función combinations genera $\\binom{len(remaining)}{size}$ combinaciones. En el peor de los casos, esto puede ser (O(2^n)) cuando size es aproximadamente la mitad de len(remaining).\n",
    "\n",
    "```python\n",
    "def backtrack(remaining, current_partition):\n",
    "    if len(partitions) >= max_solutions:\n",
    "        return\n",
    "    if not remaining:\n",
    "        partitions.append(current_partition[:])\n",
    "        return\n",
    "    for size in range(min(max_tomas, len(remaining)), 0, -1):\n",
    "        for group in combinations(remaining, size):\n",
    "            next_remaining = [x for x in remaining if x not in group]\n",
    "            current_partition.append(list(group))\n",
    "            backtrack(next_remaining, current_partition)\n",
    "            current_partition.pop()\n",
    "```"
   ]
  },
  {
   "cell_type": "markdown",
   "metadata": {},
   "source": [
    "El tiempo exponencial expresa las funciones cuyo tiempo de ejecución se dobla con cada elemento que añadimos al dataset de entrada. Las funciones que implementan cálculos recursivos siguen esta notación."
   ]
  },
  {
   "cell_type": "code",
   "execution_count": 14,
   "metadata": {},
   "outputs": [],
   "source": [
    "def medir_tiempo_ejecucion(n: int, max_tomas: int = 6, max_solutions: int = 1000) -> float:\n",
    "    start_time = time.time()\n",
    "    particiones_aleatorias(n, max_tomas, max_solutions)\n",
    "    end_time = time.time()\n",
    "    return end_time - start_time"
   ]
  },
  {
   "cell_type": "code",
   "execution_count": 15,
   "metadata": {},
   "outputs": [
    {
     "name": "stdout",
     "output_type": "stream",
     "text": [
      "Tamaño de entrada: 1, Tiempo de ejecución: 0.0010 segundos\n",
      "Tamaño de entrada: 2, Tiempo de ejecución: 0.0000 segundos\n",
      "Tamaño de entrada: 3, Tiempo de ejecución: 0.0015 segundos\n",
      "Tamaño de entrada: 4, Tiempo de ejecución: 0.0000 segundos\n",
      "Tamaño de entrada: 5, Tiempo de ejecución: 0.0055 segundos\n",
      "Tamaño de entrada: 6, Tiempo de ejecución: 0.0121 segundos\n",
      "Tamaño de entrada: 7, Tiempo de ejecución: 0.0045 segundos\n",
      "Tamaño de entrada: 8, Tiempo de ejecución: 0.0055 segundos\n",
      "Tamaño de entrada: 9, Tiempo de ejecución: 0.0065 segundos\n",
      "Tamaño de entrada: 10, Tiempo de ejecución: 0.0070 segundos\n",
      "Tamaño de entrada: 11, Tiempo de ejecución: 0.0077 segundos\n",
      "Tamaño de entrada: 12, Tiempo de ejecución: 0.0158 segundos\n",
      "Tamaño de entrada: 13, Tiempo de ejecución: 0.0158 segundos\n",
      "Tamaño de entrada: 14, Tiempo de ejecución: 0.0302 segundos\n",
      "Tamaño de entrada: 15, Tiempo de ejecución: 0.0414 segundos\n",
      "Tamaño de entrada: 16, Tiempo de ejecución: 0.0667 segundos\n",
      "Tamaño de entrada: 17, Tiempo de ejecución: 0.0923 segundos\n",
      "Tamaño de entrada: 18, Tiempo de ejecución: 0.1476 segundos\n",
      "Tamaño de entrada: 19, Tiempo de ejecución: 0.2061 segundos\n",
      "Tamaño de entrada: 20, Tiempo de ejecución: 0.2954 segundos\n",
      "Tamaño de entrada: 21, Tiempo de ejecución: 0.4250 segundos\n",
      "Tamaño de entrada: 22, Tiempo de ejecución: 0.5884 segundos\n",
      "Tamaño de entrada: 23, Tiempo de ejecución: 1.3890 segundos\n",
      "Tamaño de entrada: 24, Tiempo de ejecución: 1.1059 segundos\n",
      "Tamaño de entrada: 25, Tiempo de ejecución: 1.5847 segundos\n",
      "Tamaño de entrada: 26, Tiempo de ejecución: 2.0985 segundos\n",
      "Tamaño de entrada: 27, Tiempo de ejecución: 2.6813 segundos\n",
      "Tamaño de entrada: 28, Tiempo de ejecución: 3.5172 segundos\n",
      "Tamaño de entrada: 29, Tiempo de ejecución: 4.6949 segundos\n",
      "Parámetro ajustado: a = 1.0545e-08\n"
     ]
    },
    {
     "data": {
      "image/png": "[encoded data removed]",
      "text/plain": [
       "<Figure size 640x480 with 1 Axes>"
      ]
     },
     "metadata": {},
     "output_type": "display_data"
    }
   ],
   "source": [
    "# Definir los tamaños de entrada\n",
    "tamanos_entrada = list(range(1, 30))\n",
    "tiempos_ejecucion = []\n",
    "\n",
    "# Medir el tiempo de ejecución para cada tamaño de entrada\n",
    "for n in tamanos_entrada:\n",
    "    tiempo = medir_tiempo_ejecucion(n)\n",
    "    tiempos_ejecucion.append(tiempo)\n",
    "    print(f\"Tamaño de entrada: {n}, Tiempo de ejecución: {tiempo:.4f} segundos\")\n",
    "\n",
    "# Graficar los resultados\n",
    "plt.plot(tamanos_entrada, tiempos_ejecucion, marker='o', label='Datos')\n",
    "plt.xlabel('Tamaño de entrada (n)')\n",
    "plt.ylabel('Tiempo de ejecución (segundos)')\n",
    "plt.title('Tiempo de ejecución vs. Tamaño de entrada')\n",
    "plt.grid(True)\n",
    "\n",
    "# Definir una función de la forma a * 2^n para el ajuste\n",
    "def funcion_2n(x, a):\n",
    "    return a * 2**x\n",
    "\n",
    "# Ajustar la curva a los datos\n",
    "popt, pcov = curve_fit(funcion_2n, tamanos_entrada, tiempos_ejecucion)\n",
    "\n",
    "# Obtener el parámetro ajustado\n",
    "a = popt[0]\n",
    "print(f\"Parámetro ajustado: a = {a:.4e}\")\n",
    "\n",
    "# Graficar los resultados y la curva ajustada\n",
    "x_fit = np.linspace(1, 30, 100)\n",
    "y_fit = funcion_2n(x_fit, a)\n",
    "\n",
    "plt.plot(x_fit, y_fit, '-', label=f'Ajuste: {a:.4e} * 2^n')\n",
    "plt.legend()\n",
    "plt.show()"
   ]
  },
  {
   "cell_type": "markdown",
   "metadata": {
    "id": "3M6QjTsSkmYe"
   },
   "source": [
    "Según el problema (y tenga sentido), diseña un juego de datos de entrada aleatorios"
   ]
  },
  {
   "cell_type": "markdown",
   "metadata": {
    "id": "Jc3_OlyNkvjZ"
   },
   "source": [
    "Respuesta"
   ]
  },
  {
   "cell_type": "code",
   "execution_count": 16,
   "metadata": {
    "id": "sJ-N2etjkyWc"
   },
   "outputs": [],
   "source": [
    "def generar_datos_aleatorios(num_tomas=30, num_actores=10, probabilidad_aparicion=0.6, semilla=42):\n",
    "    \"\"\"\n",
    "    Genera una matriz de participación M para num_tomas y num_actores.\n",
    "    \n",
    "    Parámetros:\n",
    "      num_tomas (int): Número total de tomas.\n",
    "      num_actores (int): Número total de actores.\n",
    "      probabilidad_aparicion (float): Probabilidad de que un actor participe en una toma.\n",
    "      semilla (int): Semilla para reproducibilidad.\n",
    "      \n",
    "    Retorna:\n",
    "      M (list of lists): Matriz de tamaño num_tomas x num_actores, donde cada celda es 1.0 o 0.0.\n",
    "    \"\"\"\n",
    "    random.seed(semilla)  # Para reproducibilidad\n",
    "    M = []  # Matriz de participación\n",
    "    for t in range(num_tomas):\n",
    "        fila = []\n",
    "        for a in range(num_actores):\n",
    "            # Con probabilidad 'probabilidad_aparicion', el actor aparece (valor 1.0), de lo contrario 0.0\n",
    "            valor = 1.0 if random.random() < probabilidad_aparicion else 0.0\n",
    "            fila.append(valor)\n",
    "        M.append(fila)\n",
    "    return M\n",
    "\n",
    "def imprimir_matriz(M):\n",
    "    \"\"\"\n",
    "    Imprime la matriz M en formato tabular.\n",
    "    \"\"\"\n",
    "    num_actores = len(M[0])\n",
    "    encabezado = \"\\t\".join([f\"Actor_{a+1}\" for a in range(num_actores)])\n",
    "    print(\"Toma\\t\" + encabezado)\n",
    "    for i, fila in enumerate(M):\n",
    "        fila_str = \"\\t\".join(str(int(val)) for val in fila)\n",
    "        print(f\"Toma_{i+1}\\t\" + fila_str)"
   ]
  },
  {
   "cell_type": "code",
   "execution_count": 17,
   "metadata": {},
   "outputs": [
    {
     "name": "stdout",
     "output_type": "stream",
     "text": [
      "Juego de Datos de Entrada (Matriz de Participación):\n",
      "Toma\tActor_1\tActor_2\tActor_3\tActor_4\tActor_5\tActor_6\tActor_7\tActor_8\tActor_9\tActor_10\n",
      "Toma_1\t0\t1\t1\t1\t0\t0\t0\t1\t1\t1\n",
      "Toma_2\t1\t1\t1\t1\t0\t1\t1\t1\t0\t1\n",
      "Toma_3\t0\t0\t1\t1\t0\t1\t1\t1\t0\t0\n",
      "Toma_4\t0\t0\t1\t0\t1\t1\t0\t0\t0\t1\n",
      "Toma_5\t0\t1\t1\t1\t1\t1\t1\t1\t0\t1\n",
      "Toma_6\t1\t1\t1\t0\t0\t0\t1\t0\t1\t1\n",
      "Toma_7\t0\t0\t1\t0\t0\t0\t1\t1\t1\t1\n",
      "Toma_8\t1\t0\t0\t1\t0\t1\t0\t1\t1\t1\n",
      "Toma_9\t1\t1\t1\t0\t1\t1\t0\t1\t1\t1\n",
      "Toma_10\t1\t0\t0\t1\t1\t1\t0\t1\t0\t0\n",
      "Toma_11\t1\t0\t0\t1\t1\t0\t1\t1\t1\t0\n",
      "Toma_12\t0\t1\t1\t1\t0\t0\t1\t0\t0\t1\n",
      "Toma_13\t0\t1\t0\t1\t1\t1\t1\t0\t0\t0\n",
      "Toma_14\t1\t1\t0\t0\t1\t1\t1\t0\t0\t1\n",
      "Toma_15\t1\t1\t1\t0\t1\t1\t1\t0\t1\t1\n",
      "Toma_16\t0\t0\t1\t1\t1\t1\t1\t1\t1\t1\n",
      "Toma_17\t1\t0\t1\t0\t0\t1\t1\t0\t1\t1\n",
      "Toma_18\t0\t1\t1\t0\t0\t1\t1\t1\t1\t1\n",
      "Toma_19\t0\t0\t0\t1\t1\t1\t0\t1\t1\t1\n",
      "Toma_20\t1\t1\t1\t0\t1\t0\t1\t1\t0\t0\n",
      "Toma_21\t0\t0\t0\t1\t1\t1\t1\t1\t1\t0\n",
      "Toma_22\t1\t0\t1\t1\t0\t0\t1\t0\t1\t1\n",
      "Toma_23\t0\t1\t1\t0\t1\t1\t1\t0\t1\t0\n",
      "Toma_24\t1\t1\t1\t0\t1\t1\t0\t1\t1\t0\n",
      "Toma_25\t1\t1\t1\t0\t1\t0\t1\t1\t0\t1\n",
      "Toma_26\t1\t0\t1\t1\t0\t0\t1\t1\t1\t0\n",
      "Toma_27\t0\t0\t1\t1\t0\t0\t0\t0\t0\t1\n",
      "Toma_28\t0\t1\t0\t0\t1\t1\t1\t1\t1\t0\n",
      "Toma_29\t0\t1\t0\t1\t1\t0\t0\t1\t1\t1\n",
      "Toma_30\t1\t0\t0\t1\t0\t1\t1\t1\t1\t0\n"
     ]
    }
   ],
   "source": [
    "# Parámetros del juego de datos\n",
    "num_tomas = 30\n",
    "num_actores = 10\n",
    "probabilidad_aparicion = 0.6  # Ajusta esta probabilidad para simular mayor o menor participación\n",
    "\n",
    "# Generar datos aleatorios\n",
    "M = generar_datos_aleatorios(num_tomas, num_actores, probabilidad_aparicion)\n",
    "\n",
    "# Imprimir el juego de datos generado\n",
    "print(\"Juego de Datos de Entrada (Matriz de Participación):\")\n",
    "imprimir_matriz(M)"
   ]
  },
  {
   "cell_type": "markdown",
   "metadata": {
    "id": "zy5ZROmjlGo1"
   },
   "source": [
    "Aplica el algoritmo al juego de datos generado"
   ]
  },
  {
   "cell_type": "markdown",
   "metadata": {
    "id": "_Cmj-PVylMsa"
   },
   "source": [
    "Respuesta"
   ]
  },
  {
   "cell_type": "code",
   "execution_count": 20,
   "metadata": {},
   "outputs": [
    {
     "name": "stdout",
     "output_type": "stream",
     "text": [
      " Día 1: tomas [13, 3, 1, 8, 16, 25]\n",
      " Día 2: tomas [21, 7, 9, 6, 17, 22]\n",
      " Día 3: tomas [15, 11, 4, 24, 20, 26]\n",
      " Día 4: tomas [10, 27, 23, 14, 30, 28]\n",
      " Día 5: tomas [19, 12, 2, 18, 5, 29]\n",
      "\n",
      "Coste total mínimo: 50\n"
     ]
    }
   ],
   "source": [
    "## Genera las primeras 1000 particiones de 30 tomas en 5 grupos de hasta 6 tomas\n",
    "partitions = particiones_aleatorias(n=30, max_tomas=6, max_partitions=3000)\n",
    "dataframeM = pd.DataFrame(M, columns=[f\"Actor_{i+1}\" for i in range(num_actores)], index=[f\"Toma_{i+1}\" for i in range(num_tomas)])\n",
    "## Encuentra la partición con el menor coste\n",
    "min_cost = float('inf')\n",
    "for i, partition in enumerate(partitions):\n",
    "    cost, _ = funcion_coste(dataframeM, partition)\n",
    "    if cost < min_cost:\n",
    "        min_cost = cost\n",
    "        best_partition = partition\n",
    "\n",
    "for i, dia in enumerate(best_partition):\n",
    "    print(f\" Día {i+1}: tomas {dia}\")\n",
    "print(\"\\nCoste total mínimo:\", min_cost)"
   ]
  },
  {
   "cell_type": "code",
   "execution_count": 22,
   "metadata": {
    "id": "Jkx8GeiYlUz1"
   },
   "outputs": [
    {
     "name": "stdout",
     "output_type": "stream",
     "text": [
      "\n",
      "Partición óptima (días con números de tomas):\n",
      " Día 1: tomas [13, 3, 1, 8, 16, 25]\n",
      " Día 2: tomas [21, 7, 9, 6, 17, 22]\n",
      " Día 3: tomas [15, 11, 4, 24, 20, 26]\n",
      " Día 4: tomas [10, 27, 23, 14, 30, 2]\n",
      " Día 5: tomas [19, 12, 28, 18, 5, 29]\n",
      "\n",
      "Coste total mínimo: 49\n"
     ]
    }
   ],
   "source": [
    "# Ejecutar la búsqueda local para minimizar el coste\n",
    "particion_optima, coste_optimo = busqueda_local(dataframeM, best_partition, min_cost, max_iter=3000)\n",
    "\n",
    "# Mostrar la solución encontrada\n",
    "print(\"\\nPartición óptima (días con números de tomas):\")\n",
    "for i, dia in enumerate(particion_optima):\n",
    "    print(f\" Día {i+1}: tomas {dia}\")\n",
    "print(\"\\nCoste total mínimo:\", coste_optimo)"
   ]
  },
  {
   "cell_type": "markdown",
   "metadata": {
    "id": "eTFWUJQrtGcv"
   },
   "source": [
    "Enumera las referencias que has utilizado(si ha sido necesario) para llevar a cabo el trabajo"
   ]
  },
  {
   "cell_type": "markdown",
   "metadata": {
    "id": "YKQ_mRBttWsP"
   },
   "source": [
    "Respuesta"
   ]
  },
  {
   "cell_type": "markdown",
   "metadata": {},
   "source": [
    "* [Algoritmos de Búsqueda Local Básicos](https://sci2s.ugr.es/sites/default/files/files/Teaching/GraduatesCourses/Algoritmica/Tema02-BusquedaLocal-12-13.pdf)\n",
    "* [Explicando Backtracking | Fuerza Bruta Pero Elegante](https://youtu.be/ip2jC_kXGtg?si=w-9Lv5f7UTNTc50P)\n",
    "* [Big O Notation en Python: Ejemplos prácticos para cada complejidad](https://elmundodelosdatos.com/big-o-notation-en-python-ejemplos-practicos-para-cada-complejidad/)"
   ]
  },
  {
   "cell_type": "markdown",
   "metadata": {
    "id": "kAkDPUyRtYyH"
   },
   "source": [
    "Describe brevemente las lineas de como crees que es posible avanzar en el estudio del problema. Ten en cuenta incluso posibles variaciones del problema y/o variaciones al alza del tamaño"
   ]
  },
  {
   "cell_type": "markdown",
   "metadata": {
    "id": "IE0uZmo-tZu-"
   },
   "source": [
    "Respuesta"
   ]
  },
  {
   "cell_type": "markdown",
   "metadata": {},
   "source": [
    "* Mejorar la eficiencia del algoritmo de búsqueda local: Implementar operadores de vecindad más eficientes y explorar distintas estrategias de búsqueda local para encontrar soluciones óptimas en menos tiempo. Por ejemplo, se puede implementar un algoritmo de búsqueda tabú para evitar caer en óptimos locales.\n",
    "\n",
    "* Heurísticas y Metaheurísticas: Aplicar y combinar búsquedas locales, recocido simulado o algoritmos genéticos para obtener soluciones de buena calidad en menos tiempo.\n",
    "\n",
    "* Escalabilidad y Validación: Probar el modelo con instancias de mayor tamaño y datos reales, y comparar el desempeño de distintos métodos para identificar los más robustos y eficientes."
   ]
  }
 ],
 "metadata": {
  "colab": {
   "provenance": []
  },
  "kernelspec": {
   "display_name": "viu",
   "language": "python",
   "name": "python3"
  },
  "language_info": {
   "codemirror_mode": {
    "name": "ipython",
    "version": 3
   },
   "file_extension": ".py",
   "mimetype": "text/x-python",
   "name": "python",
   "nbconvert_exporter": "python",
   "pygments_lexer": "ipython3",
   "version": "3.10.15"
  }
 },
 "nbformat": 4,
 "nbformat_minor": 0
}
