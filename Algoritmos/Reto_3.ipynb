{
 "cells": [
  {
   "cell_type": "markdown",
   "metadata": {},
   "source": [
    "# Algoritmos de optimización - Reto 3\n",
    "\n",
    "Nombre: Jair Francisco Flores Farfan<br>\n",
    "Github: https://github.com/jfloresf17/miar-viu/Algoritmos/Reto_3"
   ]
  },
  {
   "cell_type": "markdown",
   "metadata": {},
   "source": [
    "## Colonia de Hormigas para el problema del agente viajero (42 ciudades)"
   ]
  },
  {
   "cell_type": "code",
   "execution_count": 1,
   "metadata": {},
   "outputs": [],
   "source": [
    "import numpy as np\n",
    "import tsplib95\n",
    "import urllib\n",
    "import gzip"
   ]
  },
  {
   "cell_type": "code",
   "execution_count": 2,
   "metadata": {},
   "outputs": [],
   "source": [
    "## Descomprimir el archivo\n",
    "file = 'swiss42.tsp'\n",
    "urllib.request.urlretrieve(\"http://comopt.ifi.uni-heidelberg.de/software/TSPLIB95/tsp/swiss42.tsp.gz\", file + '.gz')\n",
    "\n",
    "with gzip.open(file + '.gz', 'rb') as f:\n",
    "    data = f.read()\n",
    "    with open(file, 'wb') as f:\n",
    "        f.write(data)"
   ]
  },
  {
   "cell_type": "markdown",
   "metadata": {},
   "source": [
    "## Resolviendo el TSP con la Colonia de Hormigas (ACO)\n",
    "\n",
    "El **Problema del Viajante (TSP)** consiste en encontrar el camino más corto que visite todos los nodos exactamente una vez y regrese al punto de inicio. La **Colonia de Hormigas (ACO)** es un algoritmo bioinspirado que simula el comportamiento de las hormigas al buscar la ruta óptima mediante la **colocación y evaporación de feromonas**."
   ]
  },
  {
   "cell_type": "markdown",
   "metadata": {},
   "source": [
    "Se definen inicialmente dos funciones que nos sirven para determinar la distancia entre dos nodos (`distancia`) y el coste de la solución (`distancia_total`), distancia total recorrida por la hormiga."
   ]
  },
  {
   "cell_type": "code",
   "execution_count": null,
   "metadata": {},
   "outputs": [],
   "source": [
    "## Devuelve la distancia entre dos nodos\n",
    "def distancia(a: int,b: int, problem: tsplib95.models.Problem) -> float:\n",
    "  \"\"\"\n",
    "  Devuelve la distancia entre dos nodos\n",
    "\n",
    "  Args:\n",
    "      a (int): Nodo de inicio\n",
    "      b (int): Nodo de destino\n",
    "      problem (tsplib95.models.Problem): Problema del agente viajero\n",
    "\n",
    "  Returns:\n",
    "      float: Distancia entre los dos nodos\n",
    "  \"\"\"\n",
    "  return problem.get_weight(a,b)\n",
    "\n",
    "## Devuelve la distancia total de una trayectoria/solucion(lista de nodos)\n",
    "def distancia_total(solucion: list, problem: tsplib95.models.Problem) -> float:\n",
    "  \"\"\"\n",
    "  Devuelve la distancia total de una trayectoria/solucion(lista de nodos)\n",
    "\n",
    "  Args:\n",
    "      solucion (list): Lista de nodos que representan una solucion\n",
    "      problem (tsplib95.models.Problem): Problema del agente viajero\n",
    "\n",
    "  Returns:\n",
    "      float: Distancia total de la solucion\n",
    "  \"\"\"\n",
    "  distancia_total = 0\n",
    "  for i in range(len(solucion)-1):\n",
    "    distancia_total += distancia(solucion[i] ,solucion[i+1] ,  problem)\n",
    "\n",
    "  return distancia_total + distancia(solucion[len(solucion)-1] ,solucion[0], problem)"
   ]
  },
  {
   "cell_type": "markdown",
   "metadata": {},
   "source": [
    "### **Función `add_nodo()`**\n",
    "La función Add_Nodo selecciona al azar un nodo con probabilidad uniforme definida por la siguiente fórmula:\n",
    "\n",
    "$p^k_{ij}(t) = \\frac{[\\tau_{ij}(t)]^\\alpha[\\nu_{ij}]^\\beta}{\\sum_{l\\in J^k_i} [\\tau_{il}(t)]^\\alpha[\\nu_{il}]^\\beta}$, si $j \\in J^k_i$\n",
    "\n",
    "$p^k_{ij}(t) = 0$, si $j \\notin J^k_i$\n",
    "\n",
    "Donde:\n",
    "- $p^k_{ij}(t)$ → Probabilidad de ir del nodo $i$ al nodo $j$ en la iteración $t$.\n",
    "- $[\\tau_{ij}(t)]$ → Cantidad de feromonas en la arista $(i, j)$ en la iteración $t$.\n",
    "- $[\\nu_{ij}]$ → Heurística (distancia inversa) entre los nodos $i$ y $j$.\n",
    "- $J^k_i$ → Conjunto de nodos no visitados por la hormiga $k$."
   ]
  },
  {
   "cell_type": "code",
   "execution_count": 4,
   "metadata": {},
   "outputs": [],
   "source": [
    "def add_nodo(actual: int, nodos_disponibles: list, nodos: list, \n",
    "             feromonas: np.ndarray, distancias: np.ndarray, \n",
    "             alpha: float, beta: float) -> int:\n",
    "    \"\"\"\n",
    "    Selecciona el siguiente nodo basado en feromonas y heurística de distancia.\n",
    "\n",
    "    La probabilidad de seleccionar un nodo se calcula con la ecuación:\n",
    "    p_{ij} = (\\tau_{ij}^\\alpha) * (\\eta_{ij}^\\beta) / \\sum (\\tau_{ij}^\\alpha) * (\\eta_{ij}^\\beta)\n",
    "\n",
    "    Donde:\n",
    "    - p_{ij} es la probabilidad de ir del nodo i al nodo j.\n",
    "    - \\tau_{ij} es la cantidad de feromonas entre los nodos i y j.\n",
    "    - \\alpha es el peso de la influencia de las feromonas.\n",
    "    - \\eta_{ij} es la visibilidad entre los nodos i y j (inversa de la distancia).\n",
    "    - \\beta es el peso de la influencia de la heurística de distancia.\n",
    "       \n",
    "    Args:\n",
    "    actual (int): Nodo actual donde se encuentra la hormiga.\n",
    "    nodos_disponibles (list): Lista de nodos aún no visitados.\n",
    "    nodos (list): Lista de nodos en el problema TSP.\n",
    "    feromonas (ndarray): Matriz de feromonas entre nodos.\n",
    "    distancias (ndarray): Matriz de distancias entre nodos.\n",
    "    alpha (float): Peso de la influencia de las feromonas.\n",
    "    beta (float): Peso de la influencia de la heurística de distancia.\n",
    "    \n",
    "    Returns:\n",
    "    int: El siguiente nodo seleccionado.\n",
    "    \"\"\"\n",
    "    if not nodos_disponibles:\n",
    "        return None  # No hay nodos disponibles\n",
    "    \n",
    "    # Obtener índices de los nodos disponibles\n",
    "    indices_disponibles = [nodos.index(j) for j in nodos_disponibles]\n",
    "    actual_idx = nodos.index(actual)\n",
    "    \n",
    "    # Calcular visibilidad (inversa de la distancia)\n",
    "    visibilidad = np.zeros(len(indices_disponibles))\n",
    "    for idx, j in enumerate(indices_disponibles):\n",
    "        visibilidad[idx] = 1 / distancias[actual_idx, j] if distancias[actual_idx, j] > 0 else 0\n",
    "    \n",
    "    # Calcular valores de probabilidad con la ecuación\n",
    "    numeradores = (feromonas[actual_idx, indices_disponibles] ** alpha) * (visibilidad ** beta)\n",
    "    denominador = np.sum(numeradores)\n",
    "    \n",
    "    # Calcular probabilidades normalizadas\n",
    "    probabilidades = numeradores / denominador if denominador > 0 \\\n",
    "                     else np.ones(len(indices_disponibles)) / len(indices_disponibles)\n",
    "    \n",
    "    # Seleccionar el siguiente nodo basado en las probabilidades\n",
    "    siguiente_nodo = np.random.choice(nodos_disponibles, p=probabilidades)\n",
    "    return siguiente_nodo"
   ]
  },
  {
   "cell_type": "markdown",
   "metadata": {},
   "source": [
    "Para solucionar el problema del agente viajero, se implementa el algoritmo de la colonia de hormigas (ACO) con las siguientes etapas:\n",
    "\n",
    "#### **1. Inicialización**\n",
    "- Inicializar la **matriz de feromonas** con valores pequeños `(1/num_nodos).`\n",
    "- Configurar los parámetros:\n",
    "  - $ \\alpha $ → Influencia de las feromonas.\n",
    "  - $ \\beta $ → Influencia de la heurística (distancia inversa).\n",
    "  - $ Q $ → Cantidad de feromonas depositadas por cada hormiga.\n",
    "  - $ \\rho $ → Tasa de evaporación de feromonas.\n",
    "\n",
    "#### **2. Construcción de Caminos**\n",
    "Cada hormiga construye una solución siguiendo estos pasos:\n",
    "- Comienza en un nodo aleatorio.\n",
    "- Usa la función `add_nodo()` para **seleccionar el siguiente nodo** basado en:\n",
    "  - **Feromonas en la arista**.\n",
    "  - **Distancia inversa entre los nodos** (heurística).\n",
    "- Continúa hasta visitar todos los nodos.\n",
    "- Registra el camino y su longitud.\n",
    "\n",
    "#### **3. Actualización de Feromonas**\n",
    "- **Evaporación**: Se reducen las feromonas en todas las aristas (camino entre nodos).\n",
    "- **Depósito de Feromonas**: Las hormigas depositan feromonas en las aristas que han recorrido:\n",
    "  \n",
    "  $\n",
    "  \t\\tau_{ij} = (1 - \\rho) \\tau_{ij} + \\sum_{k} \\frac{Q}{L_k}\n",
    "  $\n",
    "  \n",
    "  donde:\n",
    "  - $ \\tau_{ij} $ → Cantidad de feromonas en la arista $ (i, j) $.\n",
    "  - $ \\rho $ → Factor de evaporación.\n",
    "  - $ Q $ → Cantidad de feromonas depositadas por cada hormiga.\n",
    "  - $ L_k $ → Longitud total del recorrido de la hormiga $ k $.\n",
    "\n",
    "#### **4. Selección de la Mejor Solución**\n",
    "Después de varias iteraciones:\n",
    "- Se elige el **mejor camino** registrado.\n",
    "- Se devuelve la solución óptima encontrada."
   ]
  },
  {
   "cell_type": "code",
   "execution_count": null,
   "metadata": {},
   "outputs": [],
   "source": [
    "def colonia_hormigas(problem: tsplib95.models.Problem,\n",
    "                     num_hormigas: int, \n",
    "                     num_iteraciones: int, \n",
    "                     alpha: float, beta: float, \n",
    "                     rho: float, Q: float) -> tuple:\n",
    "    \"\"\"\n",
    "    Ejecuta el algoritmo de colonia de hormigas para resolver el TSP.\n",
    "\n",
    "    Args:\n",
    "    - problem (tsplib95.models.Problem): Problema del agente viajero.\n",
    "    - num_hormigas (int): Número de hormigas a utilizar.\n",
    "    - num_iteraciones (int): Número de iteraciones a ejecutar.\n",
    "    - alpha (float): Peso de la influencia de las feromonas.\n",
    "    - beta (float): Peso de la influencia de la heurística de distancia.\n",
    "    - rho (float): Tasa de evaporación de feromonas.\n",
    "    - Q (float): Cantidad de feromonas a depositar en cada iteración.\n",
    "\n",
    "    Returns:\n",
    "    tuple: Tupla con la mejor solución encontrada y su distancia total.\n",
    "\n",
    "    \"\"\"\n",
    "    ## Inicializar feromonas y distancias\n",
    "    nodos = list(problem.get_nodes())\n",
    "    num_nodos = len(nodos)\n",
    "    feromonas = np.ones((num_nodos, num_nodos)) / num_nodos # Donde cada nodo tiene 1/n feromonas\n",
    "    distancias = np.array([[distancia(i, j, problem) for j in nodos] for i in nodos])\n",
    "    \n",
    "    mejor_solucion = None\n",
    "    mejor_distancia = float('inf')\n",
    "    \n",
    "    for _ in range(num_iteraciones):\n",
    "        soluciones = []\n",
    "        \n",
    "        for _ in range(num_hormigas):\n",
    "            ## Para que cada hormiga inicie en un nodo aleatorio\n",
    "            solucion = [np.random.choice(nodos)]\n",
    "\n",
    "            ## Construir la solucion para cada hormiga\n",
    "            while len(solucion) < num_nodos:\n",
    "                nodos_disponibles = [n for n in nodos if n not in solucion]\n",
    "                siguiente = add_nodo(solucion[-1], nodos_disponibles, nodos, feromonas, distancias, alpha, beta)\n",
    "                ## Añadir el nodo seleccionado a la solucion\n",
    "                solucion.append(siguiente)\n",
    "            ## Añadir la solucion a la lista de soluciones\n",
    "            soluciones.append(solucion)\n",
    "        \n",
    "        ## Calcular la distancia de cada solucion\n",
    "        for solucion in soluciones:\n",
    "            costo = distancia_total(solucion, problem)\n",
    "            if costo < mejor_distancia:\n",
    "                mejor_solucion, mejor_distancia = solucion, costo\n",
    "        \n",
    "        ## Actualizar feromonas\n",
    "        feromonas *= (1 - rho)\n",
    "        for solucion in soluciones:\n",
    "            costo = distancia_total(solucion, problem)\n",
    "            for i in range(num_nodos - 1):\n",
    "                feromonas[solucion[i], solucion[i+1]] += Q / costo\n",
    "    \n",
    "    return mejor_solucion, mejor_distancia"
   ]
  },
  {
   "cell_type": "code",
   "execution_count": 6,
   "metadata": {},
   "outputs": [
    {
     "name": "stdout",
     "output_type": "stream",
     "text": [
      "Mejor solución encontrada: [35, 36, 17, 31, 7, 37, 15, 16, 14, 19, 13, 5, 26, 18, 12, 11, 25, 10, 8, 9, 23, 41, 40, 24, 21, 39, 22, 38, 30, 29, 28, 27, 2, 3, 4, 6, 1, 0, 32, 34, 33, 20]\n",
      "Distancia óptima: 1287\n"
     ]
    }
   ],
   "source": [
    "problem = tsplib95.load('swiss42.tsp')\n",
    "solucion, distancia = colonia_hormigas(problem, num_hormigas=100, num_iteraciones=100, alpha=1.0, beta=2.0, rho=0.5, Q=100)\n",
    "print(\"Mejor solución encontrada:\", solucion)\n",
    "print(\"Distancia óptima:\", distancia)"
   ]
  }
 ],
 "metadata": {
  "kernelspec": {
   "display_name": "viu",
   "language": "python",
   "name": "python3"
  },
  "language_info": {
   "codemirror_mode": {
    "name": "ipython",
    "version": 3
   },
   "file_extension": ".py",
   "mimetype": "text/x-python",
   "name": "python",
   "nbconvert_exporter": "python",
   "pygments_lexer": "ipython3",
   "version": "3.10.15"
  }
 },
 "nbformat": 4,
 "nbformat_minor": 2
}
